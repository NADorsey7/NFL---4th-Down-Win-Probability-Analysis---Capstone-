{
 "cells": [
  {
   "cell_type": "markdown",
   "id": "5ad137fe",
   "metadata": {},
   "source": [
    "# NFL 4th Down Win Probability Analysis\n",
    "**Author:** Neil Dorsey\n",
    "\n",
    "This notebook evaluates NFL coaching decisions on 4th down using simulated data. It compares actual decisions to model-driven optimal decisions using win probability."
   ]
  },
  {
   "cell_type": "code",
   "execution_count": null,
   "id": "32c14990",
   "metadata": {},
   "outputs": [],
   "source": [
    "# Import libraries\n",
    "import pandas as pd\n",
    "import numpy as np\n",
    "import matplotlib.pyplot as plt\n",
    "import seaborn as sns\n",
    "from sklearn.linear_model import LinearRegression\n",
    "from sklearn.model_selection import train_test_split\n",
    "from sklearn.metrics import mean_squared_error"
   ]
  },
  {
   "cell_type": "markdown",
   "id": "83d3dfcf",
   "metadata": {},
   "source": [
    "## Load the Data"
   ]
  },
  {
   "cell_type": "code",
   "execution_count": null,
   "id": "df4891fe",
   "metadata": {},
   "outputs": [],
   "source": [
    "data = pd.read_csv('nfl_4th_down_decision_data.csv')\n",
    "data.head()"
   ]
  },
  {
   "cell_type": "markdown",
   "id": "bcdc07d9",
   "metadata": {},
   "source": [
    "## Data Preparation"
   ]
  },
  {
   "cell_type": "code",
   "execution_count": null,
   "id": "6ebd495d",
   "metadata": {},
   "outputs": [],
   "source": [
    "data['yard_number'] = data['yard_line'].str.extract(r'(\\d+)').astype(int)\n",
    "data['yard_side'] = data['yard_line'].str.contains('OWN').map({True: 'Own', False: 'Opp'})\n",
    "data['decision_code'] = data['decision'].astype('category').cat.codes\n",
    "data['time_min'] = data['time_left_q4'].str.split(':').apply(lambda x: int(x[0]) + int(x[1])/60)"
   ]
  },
  {
   "cell_type": "markdown",
   "id": "a19a0bd1",
   "metadata": {},
   "source": [
    "## Model Building: Predicting Win Probability"
   ]
  },
  {
   "cell_type": "code",
   "execution_count": null,
   "id": "353991f1",
   "metadata": {},
   "outputs": [],
   "source": [
    "X = data[['to_go', 'yard_number', 'decision_code']]\n",
    "y = data['wp_optimal']\n",
    "X_train, X_test, y_train, y_test = train_test_split(X, y, test_size=0.2, random_state=42)\n",
    "model = LinearRegression()\n",
    "model.fit(X_train, y_train)\n",
    "y_pred = model.predict(X_test)\n",
    "print('MSE:', mean_squared_error(y_test, y_pred))\n",
    "model.coef_"
   ]
  },
  {
   "cell_type": "markdown",
   "id": "ae3c0752",
   "metadata": {},
   "source": [
    "## Decision Evaluation"
   ]
  },
  {
   "cell_type": "code",
   "execution_count": null,
   "id": "85414842",
   "metadata": {},
   "outputs": [],
   "source": [
    "data['wp_delta'] = round(data['wp_optimal'] - data['wp_actual'], 3)\n",
    "data['missed_opportunity'] = (data['wp_delta'] > 0.05) & (data['decision'] != 'Go for it')\n",
    "data[['team', 'coach', 'decision', 'wp_actual', 'wp_optimal', 'wp_delta', 'missed_opportunity']].head()"
   ]
  },
  {
   "cell_type": "markdown",
   "id": "17fd2630",
   "metadata": {},
   "source": [
    "## Insights"
   ]
  },
  {
   "cell_type": "markdown",
   "id": "fa26f079",
   "metadata": {},
   "source": [
    "- Coaches left potential win probability on the table in multiple scenarios.\n",
    "- The model suggests going for it more often improves WP.\n",
    "- Future models can include more features like score, field goal range, or weather."
   ]
  },
  {
   "cell_type": "markdown",
   "id": "fc09721d",
   "metadata": {},
   "source": [
    "## Conclusion\n",
    "This notebook provides an analytical framework to assess coaching decisions and drive strategic improvements."
   ]
  }
 ],
 "metadata": {},
 "nbformat": 4,
 "nbformat_minor": 5
}
